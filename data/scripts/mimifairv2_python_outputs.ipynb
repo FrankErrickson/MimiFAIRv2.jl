{
 "cells": [
  {
   "cell_type": "markdown",
   "metadata": {},
   "source": [
    "#### Setup"
   ]
  },
  {
   "cell_type": "code",
   "execution_count": 1,
   "metadata": {},
   "outputs": [
    {
     "data": {
      "text/plain": [
       "'/Users/lisarennels/Desktop/FAIR'"
      ]
     },
     "execution_count": 1,
     "metadata": {},
     "output_type": "execute_result"
    }
   ],
   "source": [
    "# base(Python 3.8.13 ~/opt/anaconda3/bin/python\n",
    "import os\n",
    "os.getcwd()\n",
    "os.chdir(\"..\")\n",
    "os.getcwd()"
   ]
  },
  {
   "cell_type": "code",
   "execution_count": 2,
   "metadata": {},
   "outputs": [],
   "source": [
    "import numpy as np\n",
    "import sys\n",
    "import pandas as pd\n",
    "import matplotlib.pyplot as plt\n",
    "import seaborn as sn\n",
    "\n",
    "from fair import *\n",
    "\n",
    "%matplotlib inline"
   ]
  },
  {
   "cell_type": "markdown",
   "metadata": {},
   "source": [
    "#### Emissions Data"
   ]
  },
  {
   "cell_type": "code",
   "execution_count": 3,
   "metadata": {},
   "outputs": [
    {
     "data": {
      "text/plain": [
       "'/Users/lisarennels/Desktop/FAIR'"
      ]
     },
     "execution_count": 3,
     "metadata": {},
     "output_type": "execute_result"
    }
   ],
   "source": [
    "os.chdir(\"fair/scripts\")\n",
    "os.getcwd()\n",
    "import data_retrieval\n",
    "\n",
    "os.chdir(\"../..\")\n",
    "os.getcwd()"
   ]
  },
  {
   "cell_type": "code",
   "execution_count": 4,
   "metadata": {},
   "outputs": [],
   "source": [
    "for ssp in [\"ssp119\", \"ssp126\", \"ssp245\", \"ssp370\", \"ssp585\"]:\n",
    "    df = data_retrieval.RCMIP_to_FaIR_input_emms(ssp)\n",
    "    filename = \"rcmip_\" + ssp + \"_emissions_1750_to_2500_python.csv\"\n",
    "    df.to_csv(\"notebooks/lfr_outputs_data/\" + filename)"
   ]
  },
  {
   "cell_type": "markdown",
   "metadata": {},
   "source": [
    "#### Default Gas Cycle Parameters"
   ]
  },
  {
   "cell_type": "code",
   "execution_count": null,
   "metadata": {},
   "outputs": [],
   "source": [
    "gas_parameters = get_gas_parameter_defaults()\n",
    "gas_parameters.to_csv(\"notebooks/lfr_outputs_data/default_gas_cycle_parameters_python.csv\")"
   ]
  },
  {
   "cell_type": "markdown",
   "metadata": {},
   "source": [
    "#### Default Thermal Parameters"
   ]
  },
  {
   "cell_type": "code",
   "execution_count": 7,
   "metadata": {},
   "outputs": [],
   "source": [
    "thermal_parameters = get_thermal_parameter_defaults()\n",
    "thermal_parameters.to_csv(\"notebooks/lfr_outputs_data/default_thermal_parameters_python.csv\")"
   ]
  },
  {
   "cell_type": "markdown",
   "metadata": {},
   "source": [
    "#### Radiative Forcing Data"
   ]
  },
  {
   "cell_type": "code",
   "execution_count": 5,
   "metadata": {},
   "outputs": [],
   "source": [
    "for ssp in [\"ssp119\", \"ssp126\", \"ssp245\", \"ssp370\", \"ssp585\"]:\n",
    "    df = data_retrieval.get_RCMIP_forc(ssp, drivers = ['Effective Radiative Forcing|Anthropogenic|Albedo Change','Effective Radiative Forcing|Natural'])\n",
    "    filename = \"rcmip_\" + ssp + \"_effective_radiative_forcing_1750_to_2500_python.csv\"\n",
    "    df.to_csv(\"notebooks/lfr_outputs_data/\" + filename)"
   ]
  }
 ],
 "metadata": {
  "kernelspec": {
   "display_name": "Python 3",
   "language": "python",
   "name": "python3"
  },
  "language_info": {
   "codemirror_mode": {
    "name": "ipython",
    "version": 3
   },
   "file_extension": ".py",
   "mimetype": "text/x-python",
   "name": "python",
   "nbconvert_exporter": "python",
   "pygments_lexer": "ipython3",
   "version": "3.9.13"
  },
  "orig_nbformat": 4
 },
 "nbformat": 4,
 "nbformat_minor": 2
}
