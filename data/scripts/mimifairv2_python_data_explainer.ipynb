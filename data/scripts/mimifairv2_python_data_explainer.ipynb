{
 "cells": [
  {
   "cell_type": "markdown",
   "metadata": {},
   "source": [
    "## Processing Scripts and Descriptions for Input Files from Python\n",
    "\n",
    "This notebook contains information about the data held within the *data* folder of MimiFAIRv2.\n",
    "\n",
    "To replicate gathering and post-processing the various inputs for both Python replication testing and running of MimiFAIRv2, we carry out the following steps:\n",
    "\n",
    "1. Start with the FAIR repository here: https://github.com/njleach/FAIR/tree/47c6eec031d2edcf09424394dbb86581a1b246ba noting the specific commit. \n",
    "2. Download the FAIR repository via Github, place the *mimifairv2_python_outputs.ipynb* script within the *notebooks*, and run.  \n",
    "3. Copy all output files from (2) into the *data/python_replication/raw_data_from_python_from_python* folder.\n",
    "4. Use the scripts in this notebook to post-process the data from (3) and place input files into their respective locations both in the main *data* folder as inputs to MimiFAIRv2 and the *python_replication* folder for replication testing."
   ]
  },
  {
   "attachments": {},
   "cell_type": "markdown",
   "metadata": {},
   "source": [
    "#### Emissions Data\n",
    "- data/python_replication/raw_data_from_python/rcmip_sspxx_emissions_1750_to_2500.csv (raw files from Python scripts)\n",
    "- data/rcmip_sspxx_emissions_1750_to_2500.csv (inputs to MimiFAIRv2)\n",
    "\n",
    "**Note doing this work on June 6, 2023 yieled small changes for some gases for ssp585 from previous files.  The gases involved were `ch2cl, chcl3, methyl_bromine, methyl_chlorine, so2, nox, co, nnvoc, bc, nh3, oc`**"
   ]
  },
  {
   "cell_type": "markdown",
   "metadata": {},
   "source": [
    "We use the *data_retrieval.py* scripts to obtain emissions data using the Python code snippet below, fully described with setup in `mimifairv2_python_outputs.ipynb`.\n",
    "\n",
    "```python\n",
    "for ssp in [\"ssp119\", \"ssp126\", \"ssp245\", \"ssp370\", \"ssp585\"]:\n",
    "    df = data_retrieval.RCMIP_to_FaIR_input_emms(ssp)\n",
    "    filename = \"rcmip_\" + ssp + \"_emissions_1750_to_2500_python.csv\"\n",
    "    df.to_csv(\"notebooks/fairv2_python_replication_data/\" + filename)\n",
    "```"
   ]
  },
  {
   "attachments": {},
   "cell_type": "markdown",
   "metadata": {},
   "source": [
    "We then copy the outputs into *data/python_replication/raw_data_from_python*.\n",
    "\n",
    "Finally we postprocess these to linearly interpolate between future decadal years as indicated by the FAIR scripts using Julia."
   ]
  },
  {
   "cell_type": "code",
   "execution_count": 3,
   "metadata": {},
   "outputs": [],
   "source": [
    "using DataFrames, CSVFiles, Query, Interpolations\n",
    "\n",
    "for ssp in [\"ssp119\", \"ssp126\", \"ssp245\", \"ssp370\", \"ssp585\"]\n",
    "    df = load(joinpath(@__DIR__, \"..\", \"raw_data_from_python\", \"rcmip_$(ssp)_emissions_1750_to_2500_python.csv\")) |> DataFrame\n",
    "    titles = names(df)\n",
    "    titles[1] = \"year\"\n",
    "    rename!(df, titles)\n",
    "\n",
    "    for col in names(df)[2:end]\n",
    "        idxs = (!ismissing).(df[:,col])\n",
    "        itp = LinearInterpolation(df[:, :year][idxs], df[:,col][idxs])\n",
    "        df[:,col] .= itp[df.year]\n",
    "    end\n",
    "\n",
    "    df |> save(joinpath(@__DIR__, \"..\", \"..\", \"rcmip_$(ssp)_emissions_1750_to_2500.csv\"))\n",
    "end"
   ]
  },
  {
   "cell_type": "markdown",
   "metadata": {},
   "source": [
    "Finally we add headers to each *rcmip_$(ssp)_emissions_1750_to_2500.csv* MimiFAIRv2 input file in the main *data* folder with the following metadata, these files are direct inputs to MimiFAIRv2.\n",
    "\n",
    "```julia\n",
    "# File Description: RCMIP SSP119 emissions scenario from 1750-2500.\n",
    "# \"Code Source: Extracted using default Python model version of FAIR2.0, available at https://github.com/njleach/\n",
    "# FAIR/tree/47c6eec031d2edcf09424394dbb86581a1b246ba\"\n",
    "# \"Paper Reference: Leach et al. 2021. \"\"FaIRv2.0.0: a generalized impulse response model for climate\n",
    "# uncertainty and future scenario exploration,\"\" Geoscientific Model Development. https://doi.org/10.5194/gmd-14-3007-2021\"\n",
    "```"
   ]
  },
  {
   "attachments": {},
   "cell_type": "markdown",
   "metadata": {},
   "source": [
    "#### Default Gas Cycle Parameters\n",
    "- data/raw_data_from_python/default_gas_cycle_parameters_python.csv\n",
    "- data/python_replication/default_gas_cycle_parameters_python.csv\n",
    "- data/default_gas_cycle_parameters.csv"
   ]
  },
  {
   "cell_type": "markdown",
   "metadata": {},
   "source": [
    "We first obtain raw data using the Python code snippet below, fully described with setup in `mimifairv2_python_outputs.ipynb`.\n",
    "\n",
    "```python\n",
    "gas_parameters = get_gas_parameter_defaults()\n",
    "gas_parameters.to_csv(\"notebooks/fairv2_python_replication_data/default_gas_cycle_parameters_python.csv\")\n",
    "```"
   ]
  },
  {
   "cell_type": "markdown",
   "metadata": {},
   "source": [
    "We copy this file directly into the *python_replication_data* folder as *default_gas_parameters.csv*.  \n",
    "\n",
    "We then postprocess to make compatible inputs to MimiFAIRv2 including (1) transpose rows and columns (2) select only gases of interest (don't need ones with `|` in title) and (3) add gas group label to produce *default_gas_cycle_parameters.csv*"
   ]
  },
  {
   "cell_type": "markdown",
   "metadata": {},
   "source": [
    "#### Default Thermal Parameters\n",
    "- data/raw_data_from_python/default_thermal_parameters_python.csv\n",
    "- data/python_replication/default_thermal_parameters.csv"
   ]
  },
  {
   "cell_type": "markdown",
   "metadata": {},
   "source": [
    "We first obtain raw data using the Python code snippet below, fully described with setup in `mimifairv2_python_outputs.ipynb`.\n",
    "\n",
    "```python\n",
    "thermal_parameters = get_thermal_parameter_defaults()\n",
    "thermal_parameters.to_csv(\"notebooks/fairv2_python_replication_data/default_thermal_parameters_python.csv\")\n",
    "```"
   ]
  },
  {
   "cell_type": "markdown",
   "metadata": {},
   "source": [
    "We copy this file directly into the *python_replication_data* folder as *default_thermal_parameters.csv*.  "
   ]
  }
 ],
 "metadata": {
  "kernelspec": {
   "display_name": "Julia 1.8.5",
   "language": "julia",
   "name": "julia-1.8"
  },
  "language_info": {
   "file_extension": ".jl",
   "mimetype": "application/julia",
   "name": "julia",
   "version": "1.8.5"
  },
  "orig_nbformat": 4
 },
 "nbformat": 4,
 "nbformat_minor": 2
}
