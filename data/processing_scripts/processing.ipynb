{
 "cells": [
  {
   "cell_type": "markdown",
   "metadata": {},
   "source": [
    "## Processing Scripts and Descriptions for Input Files\n",
    "\n",
    "We start with the FAIR repository here: https://github.com/njleach/FAIR/tree/47c6eec031d2edcf09424394dbb86581a1b246ba noting the specific commit.  Processing scripts place all raw produced files into the `data/processing_scripts` folder, and then are postprocessed and placed into both the `data` main folder as well as the `python_replication_data` folder."
   ]
  },
  {
   "attachments": {},
   "cell_type": "markdown",
   "metadata": {},
   "source": [
    "#### Emissions Data\n",
    "- data/rcmip_sspxx_emissions_1750_to_2500.csv\n",
    "- data/python_replication_data/sspxxx_emissions\n",
    "\n",
    "**Note doing this work on June 6, 2023 yieled small changes for some gases for ssp585 from previous files.  The gases involved were `ch2cl, chcl3, methyl_bromine, methyl_chlorine, so2, nox, co, nnvoc, bc, nh3, oc`**"
   ]
  },
  {
   "attachments": {},
   "cell_type": "markdown",
   "metadata": {},
   "source": [
    "We used the `data_retrieval` scripts to obtain emissions data"
   ]
  },
  {
   "cell_type": "code",
   "execution_count": null,
   "metadata": {},
   "outputs": [],
   "source": [
    "# this is a code snippet -- for full code see lfr_fairv2_outputs.ipynb\n",
    "for ssp in [\"ssp119\", \"ssp126\", \"ssp245\", \"ssp370\", \"ssp585\"]:\n",
    "    df = data_retrieval.RCMIP_to_FaIR_input_emms(ssp)\n",
    "    filename = \"rcmip_\" + ssp + \"_emissions_1750_to_2500_python.csv\"\n",
    "    df.to_csv(\"notebooks/lfr_outputs_data/\" + filename) # copy into data/processing_scripts"
   ]
  },
  {
   "attachments": {},
   "cell_type": "markdown",
   "metadata": {},
   "source": [
    "We then postprocess these to linearly interpolate between future decadal years as indicated by the FAIR scripts using Julia."
   ]
  },
  {
   "cell_type": "code",
   "execution_count": 6,
   "metadata": {},
   "outputs": [],
   "source": [
    "using DataFrames, CSVFiles, Query, Interpolations\n",
    "\n",
    "for ssp in [\"ssp119\", \"ssp126\", \"ssp245\", \"ssp370\", \"ssp585\"]\n",
    "    df = load(joinpath(@__DIR__, \"rcmip_$(ssp)_emissions_1750_to_2500_python.csv\")) |> DataFrame\n",
    "    titles = names(df)\n",
    "    titles[1] = \"year\"\n",
    "    rename!(df, titles)\n",
    "\n",
    "    for col in names(df)[2:end]\n",
    "        idxs = (!ismissing).(df[:,col])\n",
    "        itp = LinearInterpolation(df[:, :year][idxs], df[:,col][idxs])\n",
    "        df[:,col] .= itp[df.year]\n",
    "    end\n",
    "\n",
    "    df |> save(joinpath(@__DIR__, \"..\", \"rcmip_$(ssp)_emissions_1750_to_2500.csv\"))\n",
    "\n",
    "    titles[1] = \"Variable\"\n",
    "    rename!(df, titles)\n",
    "    df |> save(joinpath(@__DIR__, \"..\", \"python_replication_data\", \"$(ssp)_emissions.csv\"))\n",
    "end"
   ]
  },
  {
   "cell_type": "markdown",
   "metadata": {},
   "source": [
    "Finally we add headers to each file in the main `data` file with the following metadata, these files are direct inputs to MimiFAIRv2.\n",
    "\n",
    "```\n",
    "# File Description: RCMIP SSP119 emissions scenario from 1750-2500.\n",
    "# \"Code Source: Extracted using default Python model version of FAIR2.0, available at https://github.com/njleach/\n",
    "# FAIR/tree/47c6eec031d2edcf09424394dbb86581a1b246ba\"\n",
    "# \"Paper Reference: Leach et al. 2021. \"\"FaIRv2.0.0: a generalized impulse response model for climate\n",
    "# uncertainty and future scenario exploration,\"\" Geoscientific Model Development. https://doi.org/10.5194/gmd-14-3007-2021\"\n",
    "```"
   ]
  },
  {
   "attachments": {},
   "cell_type": "markdown",
   "metadata": {},
   "source": [
    "#### Default Gas Cycle Parameters\n",
    "- data/python_replication_data/gas_cycle_parameters.csv\n",
    "- data/default_gas_cycle_parameters.csv"
   ]
  },
  {
   "attachments": {},
   "cell_type": "markdown",
   "metadata": {},
   "source": [
    "Starting with the FAIR repository here: https://github.com/njleach/FAIR/tree/47c6eec031d2edcf09424394dbb86581a1b246ba and noting the specific commit, we use the following Python script and reformat (transform) usnig Excel."
   ]
  },
  {
   "cell_type": "code",
   "execution_count": null,
   "metadata": {},
   "outputs": [],
   "source": [
    "# this is a code snippet -- for full code see lfr_fairv2_outputs.ipynb\n",
    "gas_parameters = get_gas_parameter_defaults()\n",
    "gas_parameters.to_csv(\"notebooks/lfr_outputs_data/default_gas_cycle_parameters_python.csv\")"
   ]
  },
  {
   "cell_type": "markdown",
   "metadata": {},
   "source": [
    "We copy this file directly into the `python_replication_data` folder as `default_gas_parameters`.  \n",
    "\n",
    "We then postprocess to make compatible inputs to MimiFAIRv2 including (1) transpose rows and columns (2) select only gases of interest (don't need ones with `|` in title) and (3) add gas group label to produce `default_gas_cycle_parameters.csv`"
   ]
  },
  {
   "cell_type": "markdown",
   "metadata": {},
   "source": [
    "#### Default Thermal Parameters"
   ]
  },
  {
   "cell_type": "code",
   "execution_count": null,
   "metadata": {},
   "outputs": [],
   "source": [
    "thermal_parameters = get_thermal_parameter_defaults()\n",
    "thermal_parameters.to_csv(\"notebooks/lfr_outputs_data/default_thermal_parameters_python.csv\")"
   ]
  },
  {
   "cell_type": "markdown",
   "metadata": {},
   "source": [
    "We copy this file directly into the `python_replication_data` folder as `default_thermal_parameters`.  "
   ]
  }
 ],
 "metadata": {
  "kernelspec": {
   "display_name": "Julia 1.8.5",
   "language": "julia",
   "name": "julia-1.8"
  },
  "language_info": {
   "file_extension": ".jl",
   "mimetype": "application/julia",
   "name": "julia",
   "version": "1.8.5"
  },
  "orig_nbformat": 4
 },
 "nbformat": 4,
 "nbformat_minor": 2
}
