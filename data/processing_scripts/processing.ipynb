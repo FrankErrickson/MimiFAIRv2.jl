{
 "cells": [
  {
   "attachments": {},
   "cell_type": "markdown",
   "metadata": {},
   "source": [
    "#### Processing the data for rcmip_sspxx_emissions_1750_to_2500.csv files"
   ]
  },
  {
   "attachments": {},
   "cell_type": "markdown",
   "metadata": {},
   "source": [
    "Starting with the FAIR repository here: https://github.com/njleach/FAIR/tree/47c6eec031d2edcf09424394dbb86581a1b246ba and noting the specific commit, I used the `data_retrieval` scripts to obtain emissions data"
   ]
  },
  {
   "cell_type": "code",
   "execution_count": null,
   "metadata": {},
   "outputs": [],
   "source": [
    "os.chdir(\"fair/scripts\")\n",
    "import data_retrieval\n",
    "\n",
    "for ssp in [\"ssp119\", \"ssp126\", \"ssp245\", \"ssp370\", \"ssp585\"]:\n",
    "    df = data_retrieval.RCMIP_to_FaIR_input_emms(ssp)\n",
    "    filename = \"rcmip_\" + ssp + \"_emissions_1750_to_2500_python.csv\"\n",
    "    df.to_csv(\"../data/\" + filename)"
   ]
  },
  {
   "attachments": {},
   "cell_type": "markdown",
   "metadata": {},
   "source": [
    "I then linearly interpolated between future decadal years as indicated by the FAIR scripts using Julia."
   ]
  },
  {
   "cell_type": "code",
   "execution_count": null,
   "metadata": {
    "vscode": {
     "languageId": "julia"
    }
   },
   "outputs": [],
   "source": [
    "using DataFrames, CSVFiles, Query, Interpolations\n",
    "\n",
    "for ssp in [\"ssp119\", \"ssp126\", \"ssp245\", \"ssp370\", \"ssp585\"]\n",
    "    df = load(joinpath(@__DIR__, \"rcmip_$(ssp)_emissions_1750_to_2500_python.csv\"), skiplines_begin = 6) |> DataFrame\n",
    "    titles = names(df)\n",
    "    titles[1] = \"year\"\n",
    "    rename!(df, titles)\n",
    "\n",
    "    for col in names(df)[2:end]\n",
    "        idxs = (!ismissing).(df[:,col])\n",
    "        itp = LinearInterpolation(df[:, :year][idxs], df[:,col][idxs])\n",
    "        df[:,col] .= itp[df.year]\n",
    "    end\n",
    "\n",
    "    df |> save(joinpath(@__DIR__, \"..\", \"rcmip_$(ssp)_emissions_1750_to_2500.csv\"))\n",
    "end\n",
    "\n",
    "# add headers to file afterwards\n",
    "# File Description: RCMIP SSP119 emissions scenario from 1750-2500.\n",
    "# \"Code Source: Extracted using default Python model version of FAIR2.0, available at https://github.com/njleach/\n",
    "# FAIR/tree/47c6eec031d2edcf09424394dbb86581a1b246ba\"\n",
    "# \"Paper Reference: Leach et al. 2021. \"\"FaIRv2.0.0: a generalized impulse response model for climate\n",
    "# uncertainty and future scenario exploration,\"\" Geoscientific Model Development. https://doi.org/10.5194/gmd-14-3007-2021\""
   ]
  },
  {
   "attachments": {},
   "cell_type": "markdown",
   "metadata": {},
   "source": [
    "Note doing this work on June 6, 2023 yieled small changes for some gases for ssp585 from previous files.  The gases involved were `ch2cl, chcl3, methyl_bromine, methyl_chlorine, so2, nox, co, nnvoc, bc, nh3, oc`"
   ]
  },
  {
   "attachments": {},
   "cell_type": "markdown",
   "metadata": {},
   "source": [
    "### default_gas_cycle_parameters.csv"
   ]
  },
  {
   "attachments": {},
   "cell_type": "markdown",
   "metadata": {},
   "source": [
    "Starting with the FAIR repository here: https://github.com/njleach/FAIR/tree/47c6eec031d2edcf09424394dbb86581a1b246ba and noting the specific commit, we use the following Python script and reformat (transform) usnig Excel."
   ]
  },
  {
   "cell_type": "code",
   "execution_count": null,
   "metadata": {},
   "outputs": [],
   "source": [
    "gas_parameters = get_gas_parameter_defaults()\n",
    "gas_parameters.to_csv(\"../../data/default_gas_cycle_parameters.csv\")"
   ]
  }
 ],
 "metadata": {
  "language_info": {
   "name": "python"
  },
  "orig_nbformat": 4
 },
 "nbformat": 4,
 "nbformat_minor": 2
}
