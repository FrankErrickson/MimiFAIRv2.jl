{
 "cells": [
  {
   "cell_type": "code",
   "execution_count": null,
   "metadata": {},
   "outputs": [],
   "source": [
    "# The first step to run these scripts is to run data_retrieval.py from \n",
    "# https://github.com/njleach/FAIR/tree/47c6eec031d2edcf09424394dbb86581a1b246ba \n",
    "\n",
    "%run \"/Users/lisarennels/Desktop/FAIR/fair/scripts/data_retrieval.py\""
   ]
  },
  {
   "cell_type": "code",
   "execution_count": null,
   "metadata": {},
   "outputs": [],
   "source": [
    "# obtain data\n",
    "RCMIP_concs, RCMIP_emms, RCMIP_forc = get_RCMIP_data()"
   ]
  },
  {
   "cell_type": "code",
   "execution_count": null,
   "metadata": {},
   "outputs": [],
   "source": [
    "# save emissions data\n",
    "\n",
    "# post processing steps include\n",
    "#\n",
    "# (1) add year column 1750:2500\n",
    "# (2) add header:\n",
    "#   File Description: RCMIP SSP119 emissions scenario from 1750-2500\n",
    "#   Code Source: Extracted using default Python model version of FAIR2.0, available at https://github.com/njleach/FAIR/tree/47c6eec031d2edcf09424394dbb86581a1b246ba\"\n",
    "#   Paper Reference: Leach et al. 2021. \"\"FaIRv2.0.0: a generalized impulse response model for climate uncertainty and future scenario exploration,\"\" Geoscientific Model Development. https://doi.org/10.5194/gmd-14-3007-2021\"\n",
    "\n",
    "outdir = \"/Users/lisarennels/.julia/dev/MimiFAIRv2/data/lfr_data\"\n",
    "\n",
    "for scenario in [\"ssp119\", \"ssp126\", \"ssp245\", \"ssp370\", \"ssp585\"]:\n",
    "    filename = \"rcmip_\" + scenario + \"_emissions_1750_to_2500.csv\"\n",
    "    filepath = os.path.join(outdir, filename)\n",
    "    emms_data = RCMIP_to_FaIR_input_emms(scenario)\n",
    "    emms_data.to_csv(filepath, sep=',', index=False, encoding='utf-8')"
   ]
  }
 ],
 "metadata": {
  "language_info": {
   "name": "python"
  },
  "orig_nbformat": 4
 },
 "nbformat": 4,
 "nbformat_minor": 2
}
